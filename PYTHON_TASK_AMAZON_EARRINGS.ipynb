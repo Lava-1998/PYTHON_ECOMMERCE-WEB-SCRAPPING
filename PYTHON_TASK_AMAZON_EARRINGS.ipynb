{
 "cells": [
  {
   "cell_type": "code",
   "execution_count": 1,
   "id": "53ae4187",
   "metadata": {},
   "outputs": [
    {
     "name": "stderr",
     "output_type": "stream",
     "text": [
      "c:\\python39\\lib\\site-packages\\xlsxwriter\\workbook.py:338: UserWarning: Calling close() on already closed file.\n",
      "  warn(\"Calling close() on already closed file.\")\n"
     ]
    }
   ],
   "source": [
    "from selenium import webdriver\n",
    "import pandas as pd\n",
    "import time\n",
    "import os\n",
    "driver=webdriver.Chrome(executable_path=r\"C:\\Users\\merit\\chromedriver.exe\")\n",
    "driver.maximize_window()\n",
    "#driver.get(\"https://www.amazon.in/\")\n",
    "driver.get(\"https://www.amazon.in/s?k=earrings&i=fashion&crid=ZN0RFQMU6A0Z&sprefix=earr%2Cfashion%2C363&ref=nb_sb_ss_ts-doa-p_4_4\")\n",
    "writer = pd.ExcelWriter('Amazon_Earrings_Offers.xlsx', engine='xlsxwriter')\n",
    "try:\n",
    "    for i in range(1,61):\n",
    "        l=[]\n",
    "        l1=[]\n",
    "        l2=[]\n",
    "        l3=[]\n",
    "        ptype=driver.find_elements_by_xpath(\"//h5[@class='s-line-clamp-1']\")\n",
    "        pname=driver.find_elements_by_xpath(\"//h2[@class='a-size-mini a-spacing-none a-color-base s-line-clamp-2']\")\n",
    "        dis_price=driver.find_elements_by_xpath(\"//h2[@class='a-size-mini a-spacing-none a-color-base s-line-clamp-2']//following::span[@class='a-price']\")\n",
    "        org_price=driver.find_elements_by_xpath(\"//h2[@class='a-size-mini a-spacing-none a-color-base s-line-clamp-2']//following::span[@class='a-price a-text-price']\")\n",
    "        for j in pname:\n",
    "            l.append(j.text)\n",
    "        for k in dis_price:\n",
    "            l1.append(k.text)\n",
    "        for z in org_price:\n",
    "            l2.append(z.text)\n",
    "        for z1 in ptype:\n",
    "            l3.append(z1.text)\n",
    "#print(l)\n",
    "        df=pd.DataFrame(list(zip(l,l2,l1,l3)),columns=[\"Product Name\",\"Original Price\",\"Discount Price\",\"Product Type\"])\n",
    "# Convert the dataframe to an XlsxWriter Excel object.\n",
    "        df.to_excel(writer, sheet_name=\"Amazon_Earring_Offers\", index=False)\n",
    "    writer.save()\n",
    "except:\n",
    "    pass\n",
    "writer.close() \n",
    "driver.close()"
   ]
  },
  {
   "cell_type": "code",
   "execution_count": null,
   "id": "b2b37d8d",
   "metadata": {},
   "outputs": [],
   "source": []
  }
 ],
 "metadata": {
  "kernelspec": {
   "display_name": "Python 3 (ipykernel)",
   "language": "python",
   "name": "python3"
  },
  "language_info": {
   "codemirror_mode": {
    "name": "ipython",
    "version": 3
   },
   "file_extension": ".py",
   "mimetype": "text/x-python",
   "name": "python",
   "nbconvert_exporter": "python",
   "pygments_lexer": "ipython3",
   "version": "3.9.6"
  }
 },
 "nbformat": 4,
 "nbformat_minor": 5
}
